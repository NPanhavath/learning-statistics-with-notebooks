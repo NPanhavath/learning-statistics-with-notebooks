{
 "cells": [
  {
   "cell_type": "markdown",
   "id": "47bc79fd",
   "metadata": {
    "vscode": {
     "languageId": "plaintext"
    }
   },
   "source": [
    "# Estimates of Location "
   ]
  },
  {
   "cell_type": "markdown",
   "id": "c5c12bb0",
   "metadata": {
    "vscode": {
     "languageId": "plaintext"
    }
   },
   "source": [
    "### Example: Location Estimates of Population and Murder Rates"
   ]
  },
  {
   "cell_type": "code",
   "execution_count": 2,
   "id": "2f891b09",
   "metadata": {},
   "outputs": [],
   "source": [
    "from statsmodels import robust"
   ]
  },
  {
   "cell_type": "code",
   "execution_count": 3,
   "id": "fb66fdf0",
   "metadata": {},
   "outputs": [
    {
     "data": {
      "text/html": [
       "<div>\n",
       "<style scoped>\n",
       "    .dataframe tbody tr th:only-of-type {\n",
       "        vertical-align: middle;\n",
       "    }\n",
       "\n",
       "    .dataframe tbody tr th {\n",
       "        vertical-align: top;\n",
       "    }\n",
       "\n",
       "    .dataframe thead th {\n",
       "        text-align: right;\n",
       "    }\n",
       "</style>\n",
       "<table border=\"1\" class=\"dataframe\">\n",
       "  <thead>\n",
       "    <tr style=\"text-align: right;\">\n",
       "      <th></th>\n",
       "      <th>State</th>\n",
       "      <th>Population</th>\n",
       "      <th>Murder.Rate</th>\n",
       "      <th>Abbreviation</th>\n",
       "    </tr>\n",
       "  </thead>\n",
       "  <tbody>\n",
       "    <tr>\n",
       "      <th>0</th>\n",
       "      <td>Alabama</td>\n",
       "      <td>4779736</td>\n",
       "      <td>5.7</td>\n",
       "      <td>AL</td>\n",
       "    </tr>\n",
       "    <tr>\n",
       "      <th>1</th>\n",
       "      <td>Alaska</td>\n",
       "      <td>710231</td>\n",
       "      <td>5.6</td>\n",
       "      <td>AK</td>\n",
       "    </tr>\n",
       "    <tr>\n",
       "      <th>2</th>\n",
       "      <td>Arizona</td>\n",
       "      <td>6392017</td>\n",
       "      <td>4.7</td>\n",
       "      <td>AZ</td>\n",
       "    </tr>\n",
       "    <tr>\n",
       "      <th>3</th>\n",
       "      <td>Arkansas</td>\n",
       "      <td>2915918</td>\n",
       "      <td>5.6</td>\n",
       "      <td>AR</td>\n",
       "    </tr>\n",
       "    <tr>\n",
       "      <th>4</th>\n",
       "      <td>California</td>\n",
       "      <td>37253956</td>\n",
       "      <td>4.4</td>\n",
       "      <td>CA</td>\n",
       "    </tr>\n",
       "    <tr>\n",
       "      <th>5</th>\n",
       "      <td>Colorado</td>\n",
       "      <td>5029196</td>\n",
       "      <td>2.8</td>\n",
       "      <td>CO</td>\n",
       "    </tr>\n",
       "    <tr>\n",
       "      <th>6</th>\n",
       "      <td>Connecticut</td>\n",
       "      <td>3574097</td>\n",
       "      <td>2.4</td>\n",
       "      <td>CT</td>\n",
       "    </tr>\n",
       "    <tr>\n",
       "      <th>7</th>\n",
       "      <td>Delaware</td>\n",
       "      <td>897934</td>\n",
       "      <td>5.8</td>\n",
       "      <td>DE</td>\n",
       "    </tr>\n",
       "  </tbody>\n",
       "</table>\n",
       "</div>"
      ],
      "text/plain": [
       "         State  Population  Murder.Rate Abbreviation\n",
       "0      Alabama     4779736          5.7           AL\n",
       "1       Alaska      710231          5.6           AK\n",
       "2      Arizona     6392017          4.7           AZ\n",
       "3     Arkansas     2915918          5.6           AR\n",
       "4   California    37253956          4.4           CA\n",
       "5     Colorado     5029196          2.8           CO\n",
       "6  Connecticut     3574097          2.4           CT\n",
       "7     Delaware      897934          5.8           DE"
      ]
     },
     "execution_count": 3,
     "metadata": {},
     "output_type": "execute_result"
    }
   ],
   "source": [
    "import pandas as pd\n",
    "state = pd.read_csv(\"Dataset/state.csv\")\n",
    "state.head(8)"
   ]
  },
  {
   "cell_type": "markdown",
   "id": "43472d91",
   "metadata": {},
   "source": [
    "Compute the mean, trimmed mean, and median for Population. For `mean` and `median` we can use the _pandas_ methods of the data frame. The trimmed mean requires the `trim_mean` function in _scipy.stats_."
   ]
  },
  {
   "cell_type": "code",
   "execution_count": 4,
   "id": "8c53f2a8",
   "metadata": {},
   "outputs": [
    {
     "name": "stdout",
     "output_type": "stream",
     "text": [
      "Mean Population: 6162876.3\n"
     ]
    }
   ],
   "source": [
    "Mean_Population = state['Population'].mean()\n",
    "print(\"Mean Population:\", Mean_Population)"
   ]
  },
  {
   "cell_type": "code",
   "execution_count": 5,
   "id": "b0dc477d",
   "metadata": {},
   "outputs": [
    {
     "data": {
      "text/plain": [
       "(50,)"
      ]
     },
     "execution_count": 5,
     "metadata": {},
     "output_type": "execute_result"
    }
   ],
   "source": [
    "state['Population'].shape"
   ]
  },
  {
   "cell_type": "code",
   "execution_count": 6,
   "id": "3f82ae73",
   "metadata": {},
   "outputs": [
    {
     "name": "stdout",
     "output_type": "stream",
     "text": [
      "Trimmed Mean Population: 4783697.125\n"
     ]
    }
   ],
   "source": [
    "from scipy.stats import trim_mean\n",
    "Trimmed_Mean_Population = trim_mean(state['Population'], proportiontocut=0.1)\n",
    "print(\"Trimmed Mean Population:\", Trimmed_Mean_Population)\n",
    "\n",
    "# proportiontocut = 0.1, it means \n",
    "# Cut 10% of the data from the bottom and 10% from the top of the sorted list.\n",
    "# Count the data points (n). The state.csv dataset typically has 50 states (for the US). So, n = 50\n",
    "# p = n * proportiontocut\n",
    "# p = 50 * 0.1\n",
    "# p = 5"
   ]
  },
  {
   "cell_type": "code",
   "execution_count": 7,
   "id": "067f1512",
   "metadata": {},
   "outputs": [
    {
     "name": "stdout",
     "output_type": "stream",
     "text": [
      "Median Population: 4436369.5\n"
     ]
    }
   ],
   "source": [
    "Median_Population = state['Population'].median()\n",
    "print(\"Median Population:\", Median_Population)"
   ]
  },
  {
   "cell_type": "code",
   "execution_count": 8,
   "id": "0bd5bff3",
   "metadata": {},
   "outputs": [
    {
     "name": "stdout",
     "output_type": "stream",
     "text": [
      "Mean Population: 6162876.3\n",
      "Trimmed Mean Population: 4783697.125\n",
      "Median Population: 4436369.5\n"
     ]
    }
   ],
   "source": [
    "print(\"Mean Population:\", Mean_Population)\n",
    "print(\"Trimmed Mean Population:\", Trimmed_Mean_Population)\n",
    "print(\"Median Population:\", Median_Population)"
   ]
  },
  {
   "cell_type": "markdown",
   "id": "eef00dfb",
   "metadata": {},
   "source": [
    "The mean is bigger than the trimmed mean, which is bigger than the median.\n",
    " This is because the trimmed mean excludes the largest and smallest five states\n",
    " (trim=0.1 drops 10% from each end). "
   ]
  },
  {
   "cell_type": "markdown",
   "id": "443a9636",
   "metadata": {},
   "source": [
    "If we want to compute the average murder rate\n",
    " for the country, we need to use a weighted mean or median to account for different\n",
    " populations in the states."
   ]
  },
  {
   "cell_type": "code",
   "execution_count": 9,
   "id": "3bef0cb2",
   "metadata": {},
   "outputs": [
    {
     "name": "stdout",
     "output_type": "stream",
     "text": [
      "4.4\n",
      "4.445833981123393\n"
     ]
    }
   ],
   "source": [
    "import wquantiles\n",
    "import numpy as np\n",
    "\n",
    "# Weight Median \n",
    "MurderRate_Country_WeightMedian = wquantiles.median(state['Murder.Rate'], weights=state['Population'])\n",
    "\n",
    "# Weight Mean \n",
    "MurderRate_Country_Mean = np.average(state['Murder.Rate'], weights=state['Population'])\n",
    "# We use a weighted mean because states have different numbers of people, \n",
    "# so bigger states should have a bigger impact on the final average.\n",
    "\n",
    "\n",
    "print(MurderRate_Country_WeightMedian)\n",
    "print(MurderRate_Country_Mean)\n",
    "#  In this case, the weighted mean and the weighted median are about the same."
   ]
  },
  {
   "cell_type": "markdown",
   "id": "1297f246",
   "metadata": {},
   "source": [
    "Since they are about the same in this case, the main analysis is that the distribution of the US population across different state murder rates is relatively symmetrical and not heavily skewed."
   ]
  },
  {
   "cell_type": "markdown",
   "id": "225edfb7",
   "metadata": {},
   "source": [
    "# Estimates of Variability"
   ]
  },
  {
   "cell_type": "markdown",
   "id": "29515d7b",
   "metadata": {},
   "source": [
    "### Example: Variability Estimates of State Population"
   ]
  },
  {
   "cell_type": "code",
   "execution_count": 10,
   "id": "6e6831e2",
   "metadata": {},
   "outputs": [
    {
     "data": {
      "text/html": [
       "<div>\n",
       "<style scoped>\n",
       "    .dataframe tbody tr th:only-of-type {\n",
       "        vertical-align: middle;\n",
       "    }\n",
       "\n",
       "    .dataframe tbody tr th {\n",
       "        vertical-align: top;\n",
       "    }\n",
       "\n",
       "    .dataframe thead th {\n",
       "        text-align: right;\n",
       "    }\n",
       "</style>\n",
       "<table border=\"1\" class=\"dataframe\">\n",
       "  <thead>\n",
       "    <tr style=\"text-align: right;\">\n",
       "      <th></th>\n",
       "      <th>State</th>\n",
       "      <th>Population</th>\n",
       "      <th>Murder.Rate</th>\n",
       "      <th>Abbreviation</th>\n",
       "    </tr>\n",
       "  </thead>\n",
       "  <tbody>\n",
       "    <tr>\n",
       "      <th>0</th>\n",
       "      <td>Alabama</td>\n",
       "      <td>4779736</td>\n",
       "      <td>5.7</td>\n",
       "      <td>AL</td>\n",
       "    </tr>\n",
       "    <tr>\n",
       "      <th>1</th>\n",
       "      <td>Alaska</td>\n",
       "      <td>710231</td>\n",
       "      <td>5.6</td>\n",
       "      <td>AK</td>\n",
       "    </tr>\n",
       "    <tr>\n",
       "      <th>2</th>\n",
       "      <td>Arizona</td>\n",
       "      <td>6392017</td>\n",
       "      <td>4.7</td>\n",
       "      <td>AZ</td>\n",
       "    </tr>\n",
       "    <tr>\n",
       "      <th>3</th>\n",
       "      <td>Arkansas</td>\n",
       "      <td>2915918</td>\n",
       "      <td>5.6</td>\n",
       "      <td>AR</td>\n",
       "    </tr>\n",
       "    <tr>\n",
       "      <th>4</th>\n",
       "      <td>California</td>\n",
       "      <td>37253956</td>\n",
       "      <td>4.4</td>\n",
       "      <td>CA</td>\n",
       "    </tr>\n",
       "    <tr>\n",
       "      <th>5</th>\n",
       "      <td>Colorado</td>\n",
       "      <td>5029196</td>\n",
       "      <td>2.8</td>\n",
       "      <td>CO</td>\n",
       "    </tr>\n",
       "    <tr>\n",
       "      <th>6</th>\n",
       "      <td>Connecticut</td>\n",
       "      <td>3574097</td>\n",
       "      <td>2.4</td>\n",
       "      <td>CT</td>\n",
       "    </tr>\n",
       "    <tr>\n",
       "      <th>7</th>\n",
       "      <td>Delaware</td>\n",
       "      <td>897934</td>\n",
       "      <td>5.8</td>\n",
       "      <td>DE</td>\n",
       "    </tr>\n",
       "  </tbody>\n",
       "</table>\n",
       "</div>"
      ],
      "text/plain": [
       "         State  Population  Murder.Rate Abbreviation\n",
       "0      Alabama     4779736          5.7           AL\n",
       "1       Alaska      710231          5.6           AK\n",
       "2      Arizona     6392017          4.7           AZ\n",
       "3     Arkansas     2915918          5.6           AR\n",
       "4   California    37253956          4.4           CA\n",
       "5     Colorado     5029196          2.8           CO\n",
       "6  Connecticut     3574097          2.4           CT\n",
       "7     Delaware      897934          5.8           DE"
      ]
     },
     "execution_count": 10,
     "metadata": {},
     "output_type": "execute_result"
    }
   ],
   "source": [
    "state.head(8)"
   ]
  },
  {
   "cell_type": "code",
   "execution_count": 11,
   "id": "b4750cdb",
   "metadata": {},
   "outputs": [
    {
     "name": "stdout",
     "output_type": "stream",
     "text": [
      "Standard Deviation of Population: 6848235.347401142\n"
     ]
    }
   ],
   "source": [
    "print(f\"Standard Deviation of Population: {state['Population'].std()}\")"
   ]
  },
  {
   "cell_type": "markdown",
   "id": "f14714b2",
   "metadata": {},
   "source": [
    "Interquartile range is calculated as the difference of the 75% and 25% quantile."
   ]
  },
  {
   "cell_type": "code",
   "execution_count": 12,
   "id": "af9cf8fa",
   "metadata": {},
   "outputs": [
    {
     "name": "stdout",
     "output_type": "stream",
     "text": [
      "IQR : 4847308.0\n"
     ]
    }
   ],
   "source": [
    "print(f\"IQR : {state['Population'].quantile(0.75) - state['Population'].quantile(0.25)}\")"
   ]
  },
  {
   "cell_type": "markdown",
   "id": "2175766b",
   "metadata": {},
   "source": [
    "Median absolute deviation from the median can be calculated with a method in *statsmodels*"
   ]
  },
  {
   "cell_type": "code",
   "execution_count": 14,
   "id": "615c8002",
   "metadata": {},
   "outputs": [
    {
     "name": "stdout",
     "output_type": "stream",
     "text": [
      "Method 1 of Median Absolute Deviation (MAD) : 3849876.1459979336\n",
      "Method 2 of Median Absolute Deviation (MAD) : 3849876.1459979336\n"
     ]
    }
   ],
   "source": [
    "# Method 1 \n",
    "print(f\"Method 1 of Median Absolute Deviation (MAD) : {robust.scale.mad(state['Population'])}\")\n",
    "\n",
    "# Method 2 \n",
    "print(f\"Method 2 of Median Absolute Deviation (MAD) : {abs(state['Population']-state['Population'].median()).median() / 0.6744897501960817}\")"
   ]
  },
  {
   "cell_type": "markdown",
   "id": "f53656bf",
   "metadata": {},
   "source": [
    "# Exploring the Data Distribution "
   ]
  },
  {
   "cell_type": "markdown",
   "id": "89596cbf",
   "metadata": {},
   "source": [
    "## Percentiles and Boxplots "
   ]
  },
  {
   "cell_type": "code",
   "execution_count": null,
   "id": "1bfb71f5",
   "metadata": {},
   "outputs": [],
   "source": []
  }
 ],
 "metadata": {
  "kernelspec": {
   "display_name": "FOR_ML",
   "language": "python",
   "name": "python3"
  },
  "language_info": {
   "codemirror_mode": {
    "name": "ipython",
    "version": 3
   },
   "file_extension": ".py",
   "mimetype": "text/x-python",
   "name": "python",
   "nbconvert_exporter": "python",
   "pygments_lexer": "ipython3",
   "version": "3.12.11"
  }
 },
 "nbformat": 4,
 "nbformat_minor": 5
}
